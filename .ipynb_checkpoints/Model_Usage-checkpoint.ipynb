{
 "cells": [
  {
   "cell_type": "code",
   "execution_count": 17,
   "metadata": {},
   "outputs": [],
   "source": [
    "#importing the model\n",
    "from joblib import load\n",
    "import numpy as np\n",
    "model = load('Breast_Cancer_Prediction_Model.joblib')"
   ]
  },
  {
   "cell_type": "code",
   "execution_count": null,
   "metadata": {},
   "outputs": [],
   "source": [
    "#Enter your Data Points Here (32) and get a prediction\n",
    "test_data = np.array([[0.14299357 -0.16219992 -0.3144935   0.95891926  0.63054753  0.58164454\n",
    "  0.80527309  1.07602267  1.25306105 -0.10182175 -0.53431492  0.0328666\n",
    " -0.1953231  -0.49892185 -0.23203404  0.03620282  0.13279661 -0.41695885\n",
    " -0.04622154  0.01926085  0.54494052  0.15757358 -0.06810617  1.07442912\n",
    "  0.70446155  0.91450514  1.33438591  1.22101459]]) "
   ]
  },
  {
   "cell_type": "code",
   "execution_count": null,
   "metadata": {},
   "outputs": [],
   "source": [
    "#Predicting\n",
    "Prediction=model.predict(test_data)\n",
    "print(Prediction)"
   ]
  }
 ],
 "metadata": {
  "kernelspec": {
   "display_name": "Python 3",
   "language": "python",
   "name": "python3"
  },
  "language_info": {
   "codemirror_mode": {
    "name": "ipython",
    "version": 3
   },
   "file_extension": ".py",
   "mimetype": "text/x-python",
   "name": "python",
   "nbconvert_exporter": "python",
   "pygments_lexer": "ipython3",
   "version": "3.6.9"
  }
 },
 "nbformat": 4,
 "nbformat_minor": 4
}
